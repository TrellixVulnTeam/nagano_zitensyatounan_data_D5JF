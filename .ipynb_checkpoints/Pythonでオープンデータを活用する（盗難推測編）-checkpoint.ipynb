{
 "cells": [
  {
   "cell_type": "code",
   "execution_count": 1,
   "metadata": {},
   "outputs": [
    {
     "data": {
      "text/html": [
       "<div>\n",
       "<style scoped>\n",
       "    .dataframe tbody tr th:only-of-type {\n",
       "        vertical-align: middle;\n",
       "    }\n",
       "\n",
       "    .dataframe tbody tr th {\n",
       "        vertical-align: top;\n",
       "    }\n",
       "\n",
       "    .dataframe thead th {\n",
       "        text-align: right;\n",
       "    }\n",
       "</style>\n",
       "<table border=\"1\" class=\"dataframe\">\n",
       "  <thead>\n",
       "    <tr style=\"text-align: right;\">\n",
       "      <th></th>\n",
       "      <th>Unnamed: 0</th>\n",
       "      <th>occurTime</th>\n",
       "      <th>age</th>\n",
       "      <th>occupation</th>\n",
       "      <th>isRock</th>\n",
       "      <th>occurMonth</th>\n",
       "    </tr>\n",
       "  </thead>\n",
       "  <tbody>\n",
       "    <tr>\n",
       "      <th>0</th>\n",
       "      <td>0</td>\n",
       "      <td>13</td>\n",
       "      <td>10</td>\n",
       "      <td>1</td>\n",
       "      <td>1</td>\n",
       "      <td>7</td>\n",
       "    </tr>\n",
       "    <tr>\n",
       "      <th>1</th>\n",
       "      <td>1</td>\n",
       "      <td>6</td>\n",
       "      <td>10</td>\n",
       "      <td>2</td>\n",
       "      <td>1</td>\n",
       "      <td>9</td>\n",
       "    </tr>\n",
       "    <tr>\n",
       "      <th>2</th>\n",
       "      <td>2</td>\n",
       "      <td>12</td>\n",
       "      <td>10</td>\n",
       "      <td>2</td>\n",
       "      <td>1</td>\n",
       "      <td>10</td>\n",
       "    </tr>\n",
       "    <tr>\n",
       "      <th>3</th>\n",
       "      <td>3</td>\n",
       "      <td>13</td>\n",
       "      <td>10</td>\n",
       "      <td>2</td>\n",
       "      <td>1</td>\n",
       "      <td>12</td>\n",
       "    </tr>\n",
       "    <tr>\n",
       "      <th>4</th>\n",
       "      <td>4</td>\n",
       "      <td>7</td>\n",
       "      <td>10</td>\n",
       "      <td>2</td>\n",
       "      <td>1</td>\n",
       "      <td>6</td>\n",
       "    </tr>\n",
       "  </tbody>\n",
       "</table>\n",
       "</div>"
      ],
      "text/plain": [
       "   Unnamed: 0  occurTime  age  occupation  isRock  occurMonth\n",
       "0           0         13   10           1       1           7\n",
       "1           1          6   10           2       1           9\n",
       "2           2         12   10           2       1          10\n",
       "3           3         13   10           2       1          12\n",
       "4           4          7   10           2       1           6"
      ]
     },
     "execution_count": 1,
     "metadata": {},
     "output_type": "execute_result"
    }
   ],
   "source": [
    "import pandas as pd\n",
    "import numpy as np\n",
    "import scipy as sc\n",
    "from scipy import linalg\n",
    "# 過去の自転車盗難情報\n",
    "trans_data = pd.read_csv(\"./CSV/output/transform_bohan_data.csv\")\n",
    "# 先頭5行を表示\n",
    "trans_data.head()"
   ]
  },
  {
   "cell_type": "code",
   "execution_count": 2,
   "metadata": {},
   "outputs": [],
   "source": [
    "# 不要な列 Unnamed: 0の削除\n",
    "trans_data = trans_data.drop(columns='Unnamed: 0')"
   ]
  },
  {
   "cell_type": "code",
   "execution_count": 3,
   "metadata": {},
   "outputs": [],
   "source": [
    "# 任意の自転車利用情報を生成\n",
    "userInfo = pd.Series([15, 30, 5, 1, 1], index=trans_data.columns)\n",
    "# trans_dataの末尾に追加\n",
    "trans_data = trans_data.append( userInfo, ignore_index=True )"
   ]
  },
  {
   "cell_type": "code",
   "execution_count": 4,
   "metadata": {},
   "outputs": [],
   "source": [
    "# 定数の準備(trans_dataの行/列の数)\n",
    "ROW = 1482\n",
    "COLUMN = 5\n",
    "# column:列の初期化\n",
    "column = []\n",
    "# ave:平均ベクトルの初期化\n",
    "ave = [0.0 for i in range(COLUMN)]"
   ]
  },
  {
   "cell_type": "code",
   "execution_count": 5,
   "metadata": {},
   "outputs": [
    {
     "name": "stdout",
     "output_type": "stream",
     "text": [
      "[12.950742240215924, 19.87854251012146, 2.8157894736842106, 0.27800269905533065, 6.922402159244265]\n"
     ]
    }
   ],
   "source": [
    "# columnにtrans_dataの列要素(5件分)を代入\n",
    "for i in range(COLUMN):\n",
    "    column.append(list(trans_data.iloc[:, i]))\n",
    "# 平均ベクトルの計算(各列の平均値を算出) \n",
    "for i in range(COLUMN):\n",
    "    ave[i] = np.average(column[i])\n",
    "print(ave)"
   ]
  },
  {
   "cell_type": "code",
   "execution_count": 6,
   "metadata": {},
   "outputs": [],
   "source": [
    "# diff: userInfoとaveの差分を格納する\n",
    "diff = userInfo - ave\n",
    "diff = np.array([diff])\n",
    "# diffの転地行列\n",
    "diff_T = np.swapaxes(diff, 0, 1)\n",
    "# vcm:分散共分散行列の計算\n",
    "vcm = (diff * diff_T) / ROW"
   ]
  },
  {
   "cell_type": "code",
   "execution_count": 7,
   "metadata": {},
   "outputs": [],
   "source": [
    "#  マハラノビス距離の算出\n",
    "mahal = np.zeros(ROW)\n",
    "tmp = np.zeros(COLUMN)\n",
    "# 算出のときはvcmの逆行列をもとめる\n",
    "vcm_r = sc.linalg.pinv(vcm)\n",
    "vcm_r = vcm_r.transpose()\n",
    "vcm_r = np.identity(COLUMN)"
   ]
  },
  {
   "cell_type": "code",
   "execution_count": 8,
   "metadata": {},
   "outputs": [
    {
     "name": "stdout",
     "output_type": "stream",
     "text": [
      "12.12477884941061\n"
     ]
    }
   ],
   "source": [
    "temp = np.dot(diff,vcm_r)\n",
    "mahal = np.dot(temp[0],diff_T)\n",
    "mahal = np.sqrt(mahal[0])\n",
    "print(mahal)"
   ]
  }
 ],
 "metadata": {
  "kernelspec": {
   "display_name": "Python 3",
   "language": "python",
   "name": "python3"
  },
  "language_info": {
   "codemirror_mode": {
    "name": "ipython",
    "version": 3
   },
   "file_extension": ".py",
   "mimetype": "text/x-python",
   "name": "python",
   "nbconvert_exporter": "python",
   "pygments_lexer": "ipython3",
   "version": "3.6.8"
  }
 },
 "nbformat": 4,
 "nbformat_minor": 2
}
